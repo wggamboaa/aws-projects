{
 "cells": [
  {
   "cell_type": "markdown",
   "metadata": {},
   "source": [
    "List your queues"
   ]
  },
  {
   "cell_type": "code",
   "execution_count": 1,
   "metadata": {},
   "outputs": [
    {
     "name": "stdout",
     "output_type": "stream",
     "text": [
      "['https://us-east-2.queue.amazonaws.com/938739727170/test-queue']\n"
     ]
    }
   ],
   "source": [
    "import boto3\n",
    "\n",
    "# Create SQS client\n",
    "sqs = boto3.client('sqs')\n",
    "\n",
    "# List SQS queues\n",
    "response = sqs.list_queues()\n",
    "\n",
    "print(response['QueueUrls'])"
   ]
  },
  {
   "cell_type": "markdown",
   "metadata": {},
   "source": [
    "Create a queue"
   ]
  },
  {
   "cell_type": "code",
   "execution_count": 2,
   "metadata": {},
   "outputs": [
    {
     "name": "stdout",
     "output_type": "stream",
     "text": [
      "https://us-east-2.queue.amazonaws.com/938739727170/SQS_DEMO\n"
     ]
    }
   ],
   "source": [
    "import boto3\n",
    "\n",
    "# Create SQS client\n",
    "sqs = boto3.client('sqs')\n",
    "\n",
    "# Create a SQS queue\n",
    "response = sqs.create_queue(\n",
    "    QueueName='SQS_DEMO',\n",
    "    Attributes={\n",
    "        'DelaySeconds': '60',\n",
    "        'MessageRetentionPeriod': '86400'\n",
    "    }\n",
    ")\n",
    "\n",
    "print(response['QueueUrl'])"
   ]
  },
  {
   "cell_type": "markdown",
   "metadata": {},
   "source": [
    "Delete a queue"
   ]
  },
  {
   "cell_type": "code",
   "execution_count": 3,
   "metadata": {},
   "outputs": [
    {
     "data": {
      "text/plain": [
       "{'ResponseMetadata': {'RequestId': '761af228-4248-59a6-823d-a9fbddb162b6',\n",
       "  'HTTPStatusCode': 200,\n",
       "  'HTTPHeaders': {'x-amzn-requestid': '761af228-4248-59a6-823d-a9fbddb162b6',\n",
       "   'date': 'Wed, 26 Oct 2022 20:51:05 GMT',\n",
       "   'content-type': 'text/xml',\n",
       "   'content-length': '211'},\n",
       "  'RetryAttempts': 0}}"
      ]
     },
     "execution_count": 3,
     "metadata": {},
     "output_type": "execute_result"
    }
   ],
   "source": [
    "import boto3\n",
    "\n",
    "# Create SQS client\n",
    "sqs = boto3.client('sqs')\n",
    "\n",
    "# Delete SQS queue\n",
    "sqs.delete_queue(QueueUrl='https://us-east-2.queue.amazonaws.com/938739727170/SQS_DEMO')"
   ]
  },
  {
   "cell_type": "markdown",
   "metadata": {},
   "source": [
    "Send a message to a queue"
   ]
  },
  {
   "cell_type": "code",
   "execution_count": 4,
   "metadata": {},
   "outputs": [
    {
     "name": "stdout",
     "output_type": "stream",
     "text": [
      "cb3caed7-eb1d-4282-a3c0-c16e2f9bf386\n"
     ]
    }
   ],
   "source": [
    "import boto3\n",
    "\n",
    "# Create SQS client\n",
    "sqs = boto3.client('sqs')\n",
    "\n",
    "queue_url = 'https://us-east-2.queue.amazonaws.com/938739727170/test-queue'\n",
    "\n",
    "# Send message to SQS queue\n",
    "response = sqs.send_message(\n",
    "    QueueUrl=queue_url,\n",
    "    DelaySeconds=10,\n",
    "    MessageAttributes={\n",
    "        'Title': {\n",
    "            'DataType': 'String',\n",
    "            'StringValue': 'The Whistler'\n",
    "        },\n",
    "        'Author': {\n",
    "            'DataType': 'String',\n",
    "            'StringValue': 'John Grisham'\n",
    "        },\n",
    "        'WeeksOn': {\n",
    "            'DataType': 'Number',\n",
    "            'StringValue': '6'\n",
    "        }\n",
    "    },\n",
    "    MessageBody=(\n",
    "        'Information about current NY Times fiction bestseller for '\n",
    "        'week of 12/11/2016.'\n",
    "    )\n",
    ")\n",
    "\n",
    "print(response['MessageId'])"
   ]
  },
  {
   "cell_type": "markdown",
   "metadata": {},
   "source": [
    "Receive and delete messages from a queue"
   ]
  },
  {
   "cell_type": "code",
   "execution_count": 5,
   "metadata": {},
   "outputs": [
    {
     "name": "stdout",
     "output_type": "stream",
     "text": [
      "Received and deleted message: {'MessageId': 'cb3caed7-eb1d-4282-a3c0-c16e2f9bf386', 'ReceiptHandle': 'AQEBY1MkbmG2heFIGa8sSxzHs4ygy5l7Xw7YP0KUPq0cRu87NcBxoHDcgtAx10Twde8z2hP7EVunc+bGjQBZn8aI8gMA92Q0kepdMw5ElkLu5B3fimv84NjjTJQKz1o2/2zQsH0oqIDD/NiS14rr+Tow1ZzluWayhY8L+LYpYcvrNFbXTrXRe2vgfouf+KFqiGKv0acEr5M2BetuaqzmaupCFq2OJoSRm6gsyoz4n4+s6HUevXiNxcIkkxGf2PIbCHycgj6CZQv9EO2nIvDELirpH0lRcCETtsHlWn2IsXwjD7mkuDDgCtfC/zAq6r7ANXbwoONt9uyFxf0HqZujltbteJK1Uy+gasQBUOynnaTr2y7DbXVH7bb33uWGy5PElVma2oAijTdAKnwwtKEnUZ5Pog==', 'MD5OfBody': 'bbdc5fdb8be7251f5c910905db994bab', 'Body': 'Information about current NY Times fiction bestseller for week of 12/11/2016.', 'Attributes': {'SentTimestamp': '1666817674504'}, 'MD5OfMessageAttributes': 'd25a6aea97eb8f585bfa92d314504a92', 'MessageAttributes': {'Author': {'StringValue': 'John Grisham', 'DataType': 'String'}, 'Title': {'StringValue': 'The Whistler', 'DataType': 'String'}, 'WeeksOn': {'StringValue': '6', 'DataType': 'Number'}}}\n"
     ]
    }
   ],
   "source": [
    "import boto3\n",
    "\n",
    "# Create SQS client\n",
    "sqs = boto3.client('sqs')\n",
    "\n",
    "queue_url = 'https://us-east-2.queue.amazonaws.com/938739727170/test-queue'\n",
    "\n",
    "# Receive message from SQS queue\n",
    "response = sqs.receive_message(\n",
    "    QueueUrl=queue_url,\n",
    "    AttributeNames=[\n",
    "        'SentTimestamp'\n",
    "    ],\n",
    "    MaxNumberOfMessages=1,\n",
    "    MessageAttributeNames=[\n",
    "        'All'\n",
    "    ],\n",
    "    VisibilityTimeout=0,\n",
    "    WaitTimeSeconds=0\n",
    ")\n",
    "\n",
    "message = response['Messages'][0]\n",
    "receipt_handle = message['ReceiptHandle']\n",
    "\n",
    "# Delete received message from queue\n",
    "sqs.delete_message(\n",
    "    QueueUrl=queue_url,\n",
    "    ReceiptHandle=receipt_handle\n",
    ")\n",
    "print('Received and deleted message: %s' % message)"
   ]
  }
 ],
 "metadata": {
  "kernelspec": {
   "display_name": "Python 3.8.10 64-bit",
   "language": "python",
   "name": "python3"
  },
  "language_info": {
   "codemirror_mode": {
    "name": "ipython",
    "version": 3
   },
   "file_extension": ".py",
   "mimetype": "text/x-python",
   "name": "python",
   "nbconvert_exporter": "python",
   "pygments_lexer": "ipython3",
   "version": "3.8.10"
  },
  "orig_nbformat": 4,
  "vscode": {
   "interpreter": {
    "hash": "916dbcbb3f70747c44a77c7bcd40155683ae19c65e1c03b4aa3499c5328201f1"
   }
  }
 },
 "nbformat": 4,
 "nbformat_minor": 2
}
